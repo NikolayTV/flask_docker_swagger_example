{
 "cells": [
  {
   "cell_type": "code",
   "execution_count": 64,
   "metadata": {
    "scrolled": true
   },
   "outputs": [
    {
     "name": "stdout",
     "output_type": "stream",
     "text": [
      "0:\tlearn: 6.1237244\ttotal: 235us\tremaining: 2.12ms\n",
      "1:\tlearn: 4.5927933\ttotal: 718us\tremaining: 2.88ms\n",
      "2:\tlearn: 3.6200127\ttotal: 866us\tremaining: 2.02ms\n",
      "3:\tlearn: 2.6656012\ttotal: 1.08ms\tremaining: 1.62ms\n",
      "4:\tlearn: 1.9992009\ttotal: 1.21ms\tremaining: 1.21ms\n",
      "5:\tlearn: 1.4994007\ttotal: 1.55ms\tremaining: 1.03ms\n",
      "6:\tlearn: 1.1245505\ttotal: 1.8ms\tremaining: 771us\n",
      "7:\tlearn: 0.8434129\ttotal: 1.95ms\tremaining: 487us\n",
      "8:\tlearn: 0.6325597\ttotal: 2.08ms\tremaining: 231us\n",
      "9:\tlearn: 0.4744197\ttotal: 2.2ms\tremaining: 0us\n"
     ]
    }
   ],
   "source": [
    "import pandas as pd\n",
    "import joblib\n",
    "from catboost import CatBoostRegressor\n",
    "# Initialize data\n",
    "\n",
    "train = pd.DataFrame(data=train_data, columns=['height', 'weight', 'age', 'sugar'])\n",
    "\n",
    "labels = [10, 20, 30]\n",
    "# Initialize CatBoostRegressor\n",
    "model = CatBoostRegressor(iterations=10,\n",
    "                          learning_rate=1,\n",
    "                          depth=2)\n",
    "# Fit model\n",
    "model.fit(train, train_labels)\n",
    "# Get predictions\n",
    "model.save_model('models/catboost_regressor.cat')"
   ]
  },
  {
   "cell_type": "code",
   "execution_count": 67,
   "metadata": {
    "scrolled": true
   },
   "outputs": [
    {
     "data": {
      "text/plain": [
       "10.600677490234375"
      ]
     },
     "execution_count": 67,
     "metadata": {},
     "output_type": "execute_result"
    }
   ],
   "source": [
    "clf = CatBoostRegressor()\n",
    "clf.load_model('models/catboost_regressor.cat')\n",
    "clf.predict(train.iloc[0].values)"
   ]
  },
  {
   "cell_type": "code",
   "execution_count": null,
   "metadata": {},
   "outputs": [],
   "source": []
  }
 ],
 "metadata": {
  "kernelspec": {
   "display_name": "Python 3",
   "language": "python",
   "name": "python3"
  },
  "language_info": {
   "codemirror_mode": {
    "name": "ipython",
    "version": 3
   },
   "file_extension": ".py",
   "mimetype": "text/x-python",
   "name": "python",
   "nbconvert_exporter": "python",
   "pygments_lexer": "ipython3",
   "version": "3.7.3"
  }
 },
 "nbformat": 4,
 "nbformat_minor": 2
}
